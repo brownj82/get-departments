{
 "cells": [
  {
   "cell_type": "code",
   "execution_count": 1,
   "id": "763be797-e486-4802-9286-01a77b6b26ba",
   "metadata": {},
   "outputs": [
    {
     "name": "stdin",
     "output_type": "stream",
     "text": [
      "mbu:  122\n"
     ]
    },
    {
     "name": "stdout",
     "output_type": "stream",
     "text": [
      "\n",
      "The following has been clipped to the system clipboard:\n",
      "1408, 1409, 1410, 1411, 1412, 1413, 1414, 1415, 1416, 1417, 1418, 1430, 1432, 1433, 1434, 1435, 1436, 1437, 1400, 1401, 1402, 1403, 1404, 1405, 1406, 1407\n"
     ]
    }
   ],
   "source": [
    "from openpyxl import load_workbook\n",
    "import pyperclip\n",
    "\n",
    "file_location = './subdepartment_list.xlsx'\n",
    "\n",
    "workbook = load_workbook(filename = file_location)\n",
    "sheet = workbook.active\n",
    "\n",
    "departments = []\n",
    "mbu = int(input('mbu: '))\n",
    "\n",
    "for row in sheet.iter_rows(min_row=4, min_col=5, max_col=7,values_only=True):\n",
    "    if row[0] == mbu:\n",
    "        departments.append(row[2])\n",
    "        \n",
    "result = ', '.join(map(str, set(departments)))\n",
    "pyperclip.copy(result)\n",
    "\n",
    "print(f'\\nThe following has been clipped to the system clipboard:\\n{result}')"
   ]
  },
  {
   "cell_type": "code",
   "execution_count": null,
   "id": "4596f878-d1ab-4c1c-be51-91e3260149e0",
   "metadata": {},
   "outputs": [],
   "source": []
  }
 ],
 "metadata": {
  "kernelspec": {
   "display_name": "Python 3 (ipykernel)",
   "language": "python",
   "name": "python3"
  },
  "language_info": {
   "codemirror_mode": {
    "name": "ipython",
    "version": 3
   },
   "file_extension": ".py",
   "mimetype": "text/x-python",
   "name": "python",
   "nbconvert_exporter": "python",
   "pygments_lexer": "ipython3",
   "version": "3.13.2"
  }
 },
 "nbformat": 4,
 "nbformat_minor": 5
}
